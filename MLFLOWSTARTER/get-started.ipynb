{
 "cells": [
  {
   "cell_type": "markdown",
   "metadata": {},
   "source": [
    "## MLFLOW tracing Server"
   ]
  },
  {
   "cell_type": "code",
   "execution_count": 2,
   "metadata": {},
   "outputs": [],
   "source": [
    "import mlflow"
   ]
  },
  {
   "cell_type": "code",
   "execution_count": 3,
   "metadata": {},
   "outputs": [],
   "source": [
    "mlflow.set_tracking_uri('http://127.0.0.1:5000')"
   ]
  },
  {
   "cell_type": "code",
   "execution_count": 5,
   "metadata": {},
   "outputs": [
    {
     "name": "stdout",
     "output_type": "stream",
     "text": [
      "🏃 View run agreeable-shrimp-98 at: http://127.0.0.1:5000/#/experiments/149239543659625245/runs/08155456a50d44a091f0b4fa857e2f9f\n",
      "🧪 View experiment at: http://127.0.0.1:5000/#/experiments/149239543659625245\n"
     ]
    }
   ],
   "source": [
    "mlflow.set_experiment(\"Check local hot connection\")\n",
    "with mlflow.start_run():\n",
    "    mlflow.log_metric('test',1)\n",
    "    mlflow.log_metric('Vaibhav',1)"
   ]
  },
  {
   "cell_type": "code",
   "execution_count": 6,
   "metadata": {},
   "outputs": [
    {
     "name": "stdout",
     "output_type": "stream",
     "text": [
      "🏃 View run worried-shrimp-192 at: http://127.0.0.1:5000/#/experiments/149239543659625245/runs/12e50e995c8144caaa4e1a2e38e02084\n",
      "🧪 View experiment at: http://127.0.0.1:5000/#/experiments/149239543659625245\n"
     ]
    }
   ],
   "source": [
    "with mlflow.start_run():\n",
    "    mlflow.log_metric('test1',1)\n",
    "    mlflow.log_metric('Vaibhav1',1)"
   ]
  },
  {
   "cell_type": "code",
   "execution_count": null,
   "metadata": {},
   "outputs": [],
   "source": []
  }
 ],
 "metadata": {
  "kernelspec": {
   "display_name": "venv",
   "language": "python",
   "name": "python3"
  },
  "language_info": {
   "codemirror_mode": {
    "name": "ipython",
    "version": 3
   },
   "file_extension": ".py",
   "mimetype": "text/x-python",
   "name": "python",
   "nbconvert_exporter": "python",
   "pygments_lexer": "ipython3",
   "version": "3.10.0"
  }
 },
 "nbformat": 4,
 "nbformat_minor": 2
}
